{
 "cells": [
  {
   "cell_type": "markdown",
   "id": "08f9ccf4",
   "metadata": {},
   "source": [
    "# 4. Mise en place d'une base de donnée relationnelle\n",
    "---"
   ]
  },
  {
   "cell_type": "markdown",
   "id": "f06722de",
   "metadata": {},
   "source": [
    "## 1. Quels sont les avantages du SGBD PostgreSQL ?"
   ]
  },
  {
   "cell_type": "markdown",
   "id": "2f1024e6",
   "metadata": {},
   "source": [
    " - Projet open-source\n",
    " - Compatibilité ACID\n",
    " - Recherche en texte intégral\n",
    " - Grande communauté"
   ]
  },
  {
   "cell_type": "markdown",
   "id": "b0ded609",
   "metadata": {},
   "source": [
    "## 2. Mettre en place et configurer un SGBD (PostgreSQL)"
   ]
  },
  {
   "cell_type": "markdown",
   "id": "b7066368",
   "metadata": {},
   "source": []
  },
  {
   "cell_type": "markdown",
   "id": "2d469d4f",
   "metadata": {},
   "source": [
    "## 3. Créer une table avec les champs définis dans le fichier \"Promoteur imo.csv\""
   ]
  },
  {
   "cell_type": "markdown",
   "id": "a6562683",
   "metadata": {},
   "source": [
    "-- Création de la base de donnée\n",
    "\n",
    "    CREATE DATABASE IF NOT EXISTS immo;\n",
    "\n",
    "-- Création de la table\n",
    "\n",
    "    USE immo;\n",
    "    CREATE TABLE biens\n",
    "    (\n",
    "    id INT AUTO_INCREMENT NOT NULL,\n",
    "    id_lot VARCHAR(30),\n",
    "\tnb_piece INT,\n",
    "\ttypologie VARCHAR(30),\n",
    "\tprix_tva_reduite FLOAT,\n",
    "\tprix_tva_normale FLOAT,\n",
    "\tprix_HT FLOAT,\n",
    "\tprix_m2_HT FLOAT,\n",
    "\tprix_m2_TTC FLOAT,\n",
    "\torientation VARCHAR(30),\n",
    "\texterieur VARCHAR(30),\n",
    "\tbalcony VARCHAR(30),\n",
    "\tgarden VARCHAR(30),\n",
    "\tparking VARCHAR(30),\n",
    "\tville VARCHAR(30),\n",
    "\tdepartement VARCHAR(30),\n",
    "\tdate_fin_programme DATE,\n",
    "\tadresse_entiere VARCHAR(30),\n",
    "\tdate_extraction DATE,\n",
    "    PRIMARY KEY (id)\n",
    "    );\n",
    "\n",
    "-- Ajout des champs 'surface', 'étage', 'programme' et 'promoteur'\n",
    "\n",
    "    ALTER TABLE biens ADD surface FLOAT;\n",
    "    ALTER TABLE biens ADD etage INT;\n",
    "    ALTER TABLE biens ADD programme VARCHAR(30);\n",
    "    ALTER TABLE biens ADD promoteur VARCHAR(30);"
   ]
  },
  {
   "cell_type": "markdown",
   "id": "3ac48d7f",
   "metadata": {},
   "source": [
    "## 4. Récupérer ces données depuis Python puis les enregistrer dans la base de donnée PostgreSQL"
   ]
  },
  {
   "cell_type": "code",
   "execution_count": null,
   "id": "7bf484b3",
   "metadata": {},
   "outputs": [],
   "source": [
    "import pandas as pd"
   ]
  },
  {
   "cell_type": "code",
   "execution_count": null,
   "id": "3ea69ce2",
   "metadata": {
    "scrolled": false
   },
   "outputs": [],
   "source": [
    "df = pd.read_csv(\"Promoteur imo.csv\", sep=';')"
   ]
  },
  {
   "cell_type": "code",
   "execution_count": null,
   "id": "847c1220",
   "metadata": {},
   "outputs": [],
   "source": [
    "df['surface'] = df['id_lot'].str.split('_')[0]\n",
    "df['étage'] = df['id_lot'].str.split('_')[1]\n",
    "df['nom_programme'] = df['id_lot'].str.split('_')[2]\n",
    "df['promoteur'] = df['id_lot'].str.split('_')[3]"
   ]
  },
  {
   "cell_type": "markdown",
   "id": "bc991527",
   "metadata": {},
   "source": [
    "## 5. Interroger la base de donnée sur la table précédemment créée en ne gardant que les biens immobiliers possédant un balcon"
   ]
  },
  {
   "cell_type": "markdown",
   "id": "ba9abbf9",
   "metadata": {},
   "source": [
    "    SELECT *\n",
    "    FROM biens\n",
    "    WHERE balcony=\"True\";"
   ]
  },
  {
   "cell_type": "markdown",
   "id": "59413c04",
   "metadata": {},
   "source": [
    "## 6. Enregistrer ces données dans un fichier Excel au format *.xlsx"
   ]
  },
  {
   "cell_type": "markdown",
   "id": "9f1b73d2",
   "metadata": {},
   "source": []
  }
 ],
 "metadata": {
  "kernelspec": {
   "display_name": "Python 3 (ipykernel)",
   "language": "python",
   "name": "python3"
  },
  "language_info": {
   "codemirror_mode": {
    "name": "ipython",
    "version": 3
   },
   "file_extension": ".py",
   "mimetype": "text/x-python",
   "name": "python",
   "nbconvert_exporter": "python",
   "pygments_lexer": "ipython3",
   "version": "3.9.7"
  }
 },
 "nbformat": 4,
 "nbformat_minor": 5
}
